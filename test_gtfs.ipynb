{
 "cells": [
  {
   "cell_type": "code",
   "execution_count": 1,
   "metadata": {},
   "outputs": [],
   "source": [
    "%load_ext autoreload"
   ]
  },
  {
   "cell_type": "code",
   "execution_count": 2,
   "metadata": {},
   "outputs": [],
   "source": [
    "%autoreload 1\n",
    "import pandas as pd\n",
    "import datetime as dt\n",
    "from graph_tool.all import *\n",
    "%aimport gtfs_parser\n",
    "#import gtfs_parser\n",
    "%aimport timetable_graph\n",
    "#import timetable_graph"
   ]
  },
  {
   "cell_type": "code",
   "execution_count": null,
   "metadata": {},
   "outputs": [],
   "source": [
    "gtfs_path = 'GTFS'"
   ]
  },
  {
   "cell_type": "code",
   "execution_count": null,
   "metadata": {},
   "outputs": [],
   "source": [
    "parser = gtfs_parser.gtfs_parser(gtfs_path)"
   ]
  },
  {
   "cell_type": "code",
   "execution_count": null,
   "metadata": {},
   "outputs": [],
   "source": [
    "parser.get_busiest_date()"
   ]
  },
  {
   "cell_type": "code",
   "execution_count": null,
   "metadata": {},
   "outputs": [],
   "source": [
    "date = dt.date(2019, 4, 28)\n",
    "#date = parser.get_busiest_date()"
   ]
  },
  {
   "cell_type": "code",
   "execution_count": null,
   "metadata": {},
   "outputs": [],
   "source": [
    "parser.read_gtfs_feed(date)"
   ]
  },
  {
   "cell_type": "code",
   "execution_count": null,
   "metadata": {},
   "outputs": [],
   "source": [
    "tg = parser.get_timetable_graph(5, 60)"
   ]
  },
  {
   "cell_type": "code",
   "execution_count": null,
   "metadata": {},
   "outputs": [],
   "source": [
    "tg.save_to_file('test_20190617')"
   ]
  },
  {
   "cell_type": "code",
   "execution_count": null,
   "metadata": {},
   "outputs": [],
   "source": []
  },
  {
   "cell_type": "code",
   "execution_count": 3,
   "metadata": {},
   "outputs": [],
   "source": [
    "tg = timetable_graph.timetable_graph()"
   ]
  },
  {
   "cell_type": "code",
   "execution_count": 4,
   "metadata": {},
   "outputs": [],
   "source": [
    "tg.load_from_file('test_20190617')"
   ]
  },
  {
   "cell_type": "code",
   "execution_count": 48,
   "metadata": {},
   "outputs": [
    {
     "name": "stdout",
     "output_type": "stream",
     "text": [
      "From Cicero-Green to Wellington at 2019-05-11 09:15:00\n"
     ]
    }
   ],
   "source": [
    "origin_name, origin_id = tg.find_location('Cicero')\n",
    "destination_name, destination_id = tg.find_location('Wellington')\n",
    "dep_time = dt.datetime(2019, 5, 11, 9, 15)\n",
    "print('From {} to {} at {}'.format(origin_name, destination_name, dep_time))"
   ]
  },
  {
   "cell_type": "code",
   "execution_count": 49,
   "metadata": {},
   "outputs": [
    {
     "name": "stdout",
     "output_type": "stream",
     "text": [
      "0 paths found\n"
     ]
    }
   ],
   "source": [
    "paths = tg.find_shortest_paths(origin_id, destination_id, dep_time, 3)\n",
    "print('{} paths found'.format(len(paths)))"
   ]
  },
  {
   "cell_type": "code",
   "execution_count": null,
   "metadata": {},
   "outputs": [],
   "source": [
    "for path in paths:\n",
    "    print(tg.path_to_string(path))"
   ]
  },
  {
   "cell_type": "code",
   "execution_count": 50,
   "metadata": {},
   "outputs": [
    {
     "name": "stdout",
     "output_type": "stream",
     "text": [
      "From (41.945313, -87.672588) to (41.844459, -87.744076) at 2019-05-11 09:15:00\n"
     ]
    }
   ],
   "source": [
    "from_lat = 41.945313\n",
    "from_lon = -87.672588\n",
    "to_lat = 41.844459\n",
    "to_lon = -87.744076\n",
    "dep_time = dt.datetime(2019, 5, 11, 9, 15)\n",
    "print('From ({}, {}) to ({}, {}) at {}'.format(\n",
    "    from_lat, from_lon, to_lat, to_lon, dep_time))"
   ]
  },
  {
   "cell_type": "code",
   "execution_count": 54,
   "metadata": {},
   "outputs": [
    {
     "name": "stdout",
     "output_type": "stream",
     "text": [
      "3 paths found\n"
     ]
    }
   ],
   "source": [
    "paths = tg.find_path_between_coordinates(from_lat, from_lon, to_lat, to_lon, dep_time, 3, 1000)\n",
    "print('{} paths found'.format(len(paths)))"
   ]
  },
  {
   "cell_type": "code",
   "execution_count": 55,
   "metadata": {},
   "outputs": [
    {
     "name": "stdout",
     "output_type": "stream",
     "text": [
      "2019-05-17 10:30:00 DEP Brn Addison-Brown\n",
      "2019-05-18 09:00:00 ARR Brn Washington/Wells\n",
      "2019-05-18 09:30:00 DEP Pink Washington/Wells\n",
      "2019-05-19 12:00:00 ARR Pink Cicero-Cermak\n",
      "\n",
      "2019-05-17 12:30:00 DEP Brn Paulina\n",
      "2019-05-18 09:00:00 ARR Brn Washington/Wells\n",
      "2019-05-18 09:30:00 DEP Pink Washington/Wells\n",
      "2019-05-19 12:00:00 ARR Pink Cicero-Cermak\n",
      "\n",
      "2019-05-17 13:30:00 DEP Brn Southport\n",
      "2019-05-18 09:00:00 ARR Brn Washington/Wells\n",
      "2019-05-18 09:30:00 DEP Pink Washington/Wells\n",
      "2019-05-19 12:00:00 ARR Pink Cicero-Cermak\n",
      "\n"
     ]
    }
   ],
   "source": [
    "for path in paths:\n",
    "    print(tg.path_to_string(path))"
   ]
  },
  {
   "cell_type": "code",
   "execution_count": 56,
   "metadata": {},
   "outputs": [
    {
     "name": "stdout",
     "output_type": "stream",
     "text": [
      "2019-05-17 10:30:00 DEP Brn Addison-Brown\n",
      "2019-05-17 12:30:00 ARR Brn Paulina\n",
      "2019-05-17 12:30:00 DEP Brn Paulina\n",
      "2019-05-17 13:30:00 ARR Brn Southport\n",
      "2019-05-17 13:30:00 DEP Brn Southport\n",
      "2019-05-17 16:00:00 ARR Brn Belmont\n",
      "2019-05-17 16:00:00 DEP Brn Belmont\n",
      "2019-05-17 17:00:00 ARR Brn Wellington\n",
      "2019-05-17 17:00:00 DEP Brn Wellington\n",
      "2019-05-17 18:00:00 ARR Brn Diversey\n",
      "2019-05-17 18:00:00 DEP Brn Diversey\n",
      "2019-05-17 19:30:00 ARR Brn Fullerton\n",
      "2019-05-17 19:30:00 DEP Brn Fullerton\n",
      "2019-05-17 21:00:00 ARR Brn Armitage\n",
      "2019-05-17 21:00:00 DEP Brn Armitage\n",
      "2019-05-18 00:30:00 ARR Brn Sedgwick\n",
      "2019-05-18 00:30:00 DEP Brn Sedgwick\n",
      "2019-05-18 04:30:00 ARR Brn Chicago-Brown\n",
      "2019-05-18 04:30:00 DEP Brn Chicago-Brown\n",
      "2019-05-18 06:30:00 ARR Brn Merchandise Mart\n",
      "2019-05-18 06:30:00 DEP Brn Merchandise Mart\n",
      "2019-05-18 09:00:00 ARR Brn Washington/Wells\n",
      "2019-05-18 09:30:00 DEP Pink Washington/Wells\n",
      "2019-05-18 12:30:00 ARR Pink Clinton-Green\n",
      "2019-05-18 12:30:00 DEP Pink Clinton-Green\n",
      "2019-05-18 13:30:00 ARR Pink Morgan\n",
      "2019-05-18 13:30:00 DEP Pink Morgan\n",
      "2019-05-18 16:00:00 ARR Pink Ashland-Lake\n",
      "2019-05-18 16:00:00 DEP Pink Ashland-Lake\n",
      "2019-05-18 19:00:00 ARR Pink Polk\n",
      "2019-05-18 19:00:00 DEP Pink Polk\n",
      "2019-05-18 21:00:00 ARR Pink 18th\n",
      "2019-05-18 21:00:00 DEP Pink 18th\n",
      "2019-05-18 23:30:00 ARR Pink Damen-Cermak\n",
      "2019-05-18 23:30:00 DEP Pink Damen-Cermak\n",
      "2019-05-19 00:30:00 ARR Pink Western-Cermak\n",
      "2019-05-19 00:30:00 DEP Pink Western-Cermak\n",
      "2019-05-19 02:00:00 ARR Pink California-Cermak\n",
      "2019-05-19 02:00:00 DEP Pink California-Cermak\n",
      "2019-05-19 03:30:00 ARR Pink Kedzie-Cermak\n",
      "2019-05-19 03:30:00 DEP Pink Kedzie-Cermak\n",
      "2019-05-19 04:30:00 ARR Pink Central Park\n",
      "2019-05-19 04:30:00 DEP Pink Central Park\n",
      "2019-05-19 06:00:00 ARR Pink Pulaski-Cermak\n",
      "2019-05-19 06:00:00 DEP Pink Pulaski-Cermak\n",
      "2019-05-19 07:30:00 ARR Pink Kostner\n",
      "2019-05-19 07:30:00 DEP Pink Kostner\n",
      "2019-05-19 12:00:00 ARR Pink Cicero-Cermak\n",
      "\n"
     ]
    }
   ],
   "source": [
    "for path in paths:\n",
    "    print(tg.path_to_string_with_all_stops(path))\n",
    "    break"
   ]
  },
  {
   "cell_type": "code",
   "execution_count": null,
   "metadata": {},
   "outputs": [],
   "source": []
  }
 ],
 "metadata": {
  "kernelspec": {
   "display_name": "Python 3",
   "language": "python",
   "name": "python3"
  },
  "language_info": {
   "codemirror_mode": {
    "name": "ipython",
    "version": 3
   },
   "file_extension": ".py",
   "mimetype": "text/x-python",
   "name": "python",
   "nbconvert_exporter": "python",
   "pygments_lexer": "ipython3",
   "version": "3.6.5"
  }
 },
 "nbformat": 4,
 "nbformat_minor": 2
}
